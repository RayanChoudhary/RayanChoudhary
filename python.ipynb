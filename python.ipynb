{
  "nbformat": 4,
  "nbformat_minor": 0,
  "metadata": {
    "colab": {
      "provenance": [],
      "authorship_tag": "ABX9TyM79pcGo1JFp1R45NnSybR4",
      "include_colab_link": true
    },
    "kernelspec": {
      "name": "python3",
      "display_name": "Python 3"
    },
    "language_info": {
      "name": "python"
    }
  },
  "cells": [
    {
      "cell_type": "markdown",
      "metadata": {
        "id": "view-in-github",
        "colab_type": "text"
      },
      "source": [
        "<a href=\"https://colab.research.google.com/github/RayanChoudhary/RayanChoudhary/blob/main/python.ipynb\" target=\"_parent\"><img src=\"https://colab.research.google.com/assets/colab-badge.svg\" alt=\"Open In Colab\"/></a>"
      ]
    },
    {
      "cell_type": "code",
      "execution_count": null,
      "metadata": {
        "colab": {
          "base_uri": "https://localhost:8080/"
        },
        "id": "c2CTPrMmAlqc",
        "outputId": "77e0d209-182e-4499-8678-f9c20dfc7d5a"
      },
      "outputs": [
        {
          "output_type": "stream",
          "name": "stdout",
          "text": [
            "Hello World\n",
            "Hello CHaCho!\n"
          ]
        }
      ],
      "source": [
        "print(\"Hello World\")\n",
        "print(\"Hello CHaCho!\")"
      ]
    },
    {
      "cell_type": "code",
      "source": [
        "fav_Player = \"RAyan Choudhary\"\n",
        "print(fav_Player)"
      ],
      "metadata": {
        "colab": {
          "base_uri": "https://localhost:8080/"
        },
        "id": "8nF5mrD3ExUc",
        "outputId": "70919a3b-869b-425c-d495-8a634c59fd68"
      },
      "execution_count": null,
      "outputs": [
        {
          "output_type": "stream",
          "name": "stdout",
          "text": [
            "RAyan Choudhary\n"
          ]
        }
      ]
    },
    {
      "cell_type": "code",
      "source": [
        "fav_no = 9.09\n",
        "print(fav_no)\n",
        "fav_name = \"990kashi\"\n",
        "print(type (fav_no))\n",
        "# print(f\"My Name Is\", fav_Player)\n",
        "print(f\"My NAme Is {fav_Player}\")"
      ],
      "metadata": {
        "colab": {
          "base_uri": "https://localhost:8080/"
        },
        "id": "q7gFOpG7GolV",
        "outputId": "5783a300-37b7-4109-8025-166ac0a0e025"
      },
      "execution_count": null,
      "outputs": [
        {
          "output_type": "stream",
          "name": "stdout",
          "text": [
            "9.09\n",
            "<class 'float'>\n",
            "My NAme Is RAyan Choudhary\n"
          ]
        }
      ]
    },
    {
      "cell_type": "code",
      "source": [
        "paraGraph = \"\"\"My NAme IS RAyan.\n",
        " I Am A AI Develpor.\n",
        "  I recently Joined this.\n",
        "   Curently Leaarn Python\"\"\"\n",
        "\n",
        "print(paraGraph)"
      ],
      "metadata": {
        "colab": {
          "base_uri": "https://localhost:8080/"
        },
        "id": "m-MHTyk0Mu2T",
        "outputId": "e12d8224-1c91-4099-efe8-b69346111e82"
      },
      "execution_count": null,
      "outputs": [
        {
          "output_type": "stream",
          "name": "stdout",
          "text": [
            "My NAme IS RAyan.\n",
            " I Am A AI Develpor.\n",
            "  I recently Joined this.\n",
            "   Curently Leaarn Python\n"
          ]
        }
      ]
    },
    {
      "cell_type": "code",
      "source": [
        "print(f\"\"\"Hi {fav_Player},\n",
        " You Got A free Coupon Code.\n",
        "  Best Regards.\n",
        "   From Hamzah.\"\"\")"
      ],
      "metadata": {
        "colab": {
          "base_uri": "https://localhost:8080/"
        },
        "id": "i1yxc8VYQqgn",
        "outputId": "288e1b74-a3b9-4109-bb0f-ec789b6ec082"
      },
      "execution_count": null,
      "outputs": [
        {
          "output_type": "stream",
          "name": "stdout",
          "text": [
            "Hi RAyan Choudhary,\n",
            " You Got A free Coupon Code.\n",
            "  Best Regards.\n",
            "   From Hamzah.\n"
          ]
        }
      ]
    },
    {
      "cell_type": "code",
      "source": [
        "# Arthemetic Operateres\n",
        "item1 = 10\n",
        "item2 = 2\n",
        "result = item1 - item2\n",
        "print(\"Subtraction:\", result)\n",
        "# print(item1 - item2)\n",
        "\n",
        "#Modules (Like Reminder In divide)\n",
        "a = 20\n",
        "b = 6\n",
        "result = a % b\n",
        "print(\"Modules:\",result)\n",
        "\n",
        "\n",
        "# Exponent method eans (Implement Power Like)\n",
        "num1 = 5\n",
        "print(num1 ** 2)"
      ],
      "metadata": {
        "colab": {
          "base_uri": "https://localhost:8080/"
        },
        "id": "Q48CkBu57cVC",
        "outputId": "a0da1fe5-5519-42d0-fddc-1d62583d5d0e"
      },
      "execution_count": null,
      "outputs": [
        {
          "output_type": "stream",
          "name": "stdout",
          "text": [
            "Subtraction: 8\n",
            "Modules: 2\n",
            "25\n"
          ]
        }
      ]
    },
    {
      "cell_type": "code",
      "source": [
        "faculty = 12\n",
        "admin = 4\n",
        "student = 100\n",
        "absent = 15\n",
        "per_person_rabri = 250\n",
        "\n",
        "total_members = faculty + admin + student\n",
        "print(f\"Total Member Which is invited is = {total_members}\")\n",
        "\n",
        "total_present_member = total_members - absent\n",
        "print(f\"TOTAl MEMEBER WHICH WILL ATTENd The PROGRAME = {total_present_member}\")\n",
        "\n",
        "total_Rabri_in_gram = total_present_member * per_person_rabri\n",
        "print(f\"Total Rabri in Gram is {total_Rabri_in_gram} for {total_present_member} person\")\n",
        "\n",
        "total_rabri_in_kg = total_Rabri_in_gram / 1000\n",
        "print(f\"Total Rabri in kg is {total_rabri_in_kg}\")"
      ],
      "metadata": {
        "id": "IK4GY38GKSwt"
      },
      "execution_count": null,
      "outputs": []
    },
    {
      "cell_type": "code",
      "source": [
        "# functions\n",
        "def chat_llm(parameter):\n",
        "  print(f'User:{parameter}')\n",
        "  return ('AI: Hello yes Tell How Can I Help You')\n",
        "\n",
        "  # store functiom in variable\n",
        "# chat_llm(\"Hello\")\n",
        "response = chat_llm(\"Hello\")\n",
        "print(response)\n",
        "\n",
        "#Make Chai Through Function\n",
        "def make_tea():\n",
        "  print(\"Add MILK\")\n",
        "  print(\"ADD SUGAR\")\n",
        "  print(\"ADD PATI\")\n",
        "  print(\"MIX AND BOIL These things Together\")\n",
        "  return  \"SERVE This\"\n",
        "\n",
        "tea_1 = make_tea()\n",
        "\n",
        "print(f\"{tea_1} TO RAyan\")"
      ],
      "metadata": {
        "id": "caVGR7XSO5_m",
        "colab": {
          "base_uri": "https://localhost:8080/"
        },
        "outputId": "8f800a96-5067-471e-e6dc-aa15c0886b73"
      },
      "execution_count": 97,
      "outputs": [
        {
          "output_type": "stream",
          "name": "stdout",
          "text": [
            "User:Hello\n",
            "AI: Hello yes Tell How Can I Help You\n",
            "Add MILK\n",
            "ADD SUGAR\n",
            "ADD PATI\n",
            "MIX AND BOIL These things Together\n",
            "SERVE This for RAyan\n"
          ]
        }
      ]
    },
    {
      "cell_type": "code",
      "source": [
        "from os import name\n",
        "# Dictionary\n",
        "users = {\n",
        "    \"name\": \"Rayan\",\n",
        "    \"age\": \"21\",\n",
        "    \"city\": \"Karachi\"\n",
        "}\n",
        "\n",
        "print(users)\n",
        "print(users[\"name\"])\n",
        "print(users[\"age\"])\n",
        "print(users[\"city\"])"
      ],
      "metadata": {
        "colab": {
          "base_uri": "https://localhost:8080/"
        },
        "id": "PkSrXKpXlAHK",
        "outputId": "12ad1bf5-ec89-42c5-dbd4-0f5c549e7542"
      },
      "execution_count": 100,
      "outputs": [
        {
          "output_type": "stream",
          "name": "stdout",
          "text": [
            "{'name': 'Rayan', 'age': '21', 'city': 'Karachi'}\n",
            "Rayan\n",
            "21\n",
            "Karachi\n"
          ]
        }
      ]
    }
  ]
}